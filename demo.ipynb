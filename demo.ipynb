{
 "cells": [
  {
   "cell_type": "markdown",
   "id": "1a8717cf-1368-44d5-9d90-0c85a48b16fb",
   "metadata": {},
   "source": [
    "# Demo RAG Pipeline with custom package"
   ]
  },
  {
   "cell_type": "markdown",
   "id": "1f5da1b4-c1b6-4281-aa3f-2b5e115d4477",
   "metadata": {},
   "source": [
    "The parameters for the RAG pipeline function will be the query and context document as these are likely to change for each use"
   ]
  },
  {
   "cell_type": "code",
   "execution_count": 1,
   "id": "ca500483-a98f-42d3-9305-1db0e3a172bd",
   "metadata": {},
   "outputs": [
    {
     "data": {
      "text/plain": [
       "'/Users/ahmedaman/Desktop/projects/rag_pipeline'"
      ]
     },
     "execution_count": 1,
     "metadata": {},
     "output_type": "execute_result"
    }
   ],
   "source": [
    "import os\n",
    "os.getcwd()"
   ]
  },
  {
   "cell_type": "code",
   "execution_count": 2,
   "id": "9ded08a5-c950-4350-a430-57a6c6b08250",
   "metadata": {},
   "outputs": [],
   "source": [
    "from rag_pipeline import *"
   ]
  },
  {
   "cell_type": "markdown",
   "id": "1a718083-72e6-46cc-a898-88289c5c6398",
   "metadata": {},
   "source": [
    "#### RAG pipeline executed by simply defining document file path, query and preferred LLM"
   ]
  },
  {
   "cell_type": "code",
   "execution_count": 3,
   "id": "0960c7df-8698-4832-90c8-effbcdf432d4",
   "metadata": {},
   "outputs": [],
   "source": [
    "file_path_demo = './data/sample_congressional_hearing.pdf'\n",
    "query = \"Who are the participants in this document\""
   ]
  },
  {
   "cell_type": "code",
   "execution_count": 4,
   "id": "ca3975e3-1472-4fcf-a122-bcfa08b40d3a",
   "metadata": {},
   "outputs": [
    {
     "name": "stdout",
     "output_type": "stream",
     "text": [
      "Python version: 3.10.5\n",
      "OS: Darwin 23.4.0\n",
      "\n",
      "langchain_community: 0.2.4\n",
      "langchain_core: 0.2.5\n",
      "openai: 1.33.0\n",
      "\n",
      "Number of documents stored in the vector store: 1056 \n",
      "\n"
     ]
    },
    {
     "name": "stderr",
     "output_type": "stream",
     "text": [
      "/Users/ahmedaman/Desktop/projects/rag_pipeline/venv_rag_pipeline/lib/python3.10/site-packages/langchain_core/_api/deprecation.py:119: LangChainDeprecationWarning: The method `BaseRetriever.get_relevant_documents` was deprecated in langchain-core 0.1.46 and will be removed in 0.3.0. Use invoke instead.\n",
      "  warn_deprecated(\n"
     ]
    },
    {
     "data": {
      "text/plain": [
       "'The participants specifically mentioned in the document are:\\n\\n1. **The Honorable David Cicilline** - Chairman of the Subcommittee on Antitrust, Commercial and Administrative Law. He is referenced as having provided an opening statement.\\n\\n2. **The Honorable James Sensenbrenner** - Ranking Member of the Subcommittee on Antitrust, Commercial and Administrative Law, also noted as giving an opening statement.\\n\\n3. **The Honorable Jerrold Nadler** - Chairman of the Committee on the Judiciary. He also made an opening statement.\\n\\n4. **The Honorable Jim Jordan** - Ranking Member of the Committee on the Judiciary, who delivered an opening statement.\\n\\nAdditionally, listed as witnesses in the hearing:\\n\\n5. **Jeff Bezos** - Chief Executive Officer of Amazon.com, Inc., who is noted to provide both oral and prepared testimony.\\n\\n6. **Sundar Pichai** - Chief Executive Officer of Alphabet Inc., also a witness expected to testify.\\n\\nOther notable mentions include individuals or representatives from various organizations and corporations who submitted statements for the record:\\n\\n7. **Michael Beckerman** - Vice President and Head of US Public Policy at TikTok.\\n\\n8. **Dr. Ajintha Pathmanathan** - Representative from ClinIQ.\\n\\n9. **Michael Kleinman and Charanya Krishnaswami** - From Amnesty International.\\n\\n10. **Margrethe Vestager** - Executive Vice-President of the European Commission.\\n\\n11. **Dirk Van Dongen** - President and CEO of the National Association of Wholesaler-Distributors.\\n\\n12. **Jake Ward** - President of Connected Commerce.\\n\\nThese are the main participants involved in the context given by the presented text.'"
      ]
     },
     "execution_count": 4,
     "metadata": {},
     "output_type": "execute_result"
    }
   ],
   "source": [
    "rag_execute(file_path_demo, query, model=\"gpt-4-turbo\")"
   ]
  },
  {
   "cell_type": "code",
   "execution_count": null,
   "id": "6a54324b-00d1-4955-ae1b-32bbb79a1db9",
   "metadata": {},
   "outputs": [],
   "source": []
  }
 ],
 "metadata": {
  "kernelspec": {
   "display_name": "Python (venv_rag_pipeline)",
   "language": "python",
   "name": "venv_rag_pipeline"
  },
  "language_info": {
   "codemirror_mode": {
    "name": "ipython",
    "version": 3
   },
   "file_extension": ".py",
   "mimetype": "text/x-python",
   "name": "python",
   "nbconvert_exporter": "python",
   "pygments_lexer": "ipython3",
   "version": "3.10.5"
  }
 },
 "nbformat": 4,
 "nbformat_minor": 5
}
