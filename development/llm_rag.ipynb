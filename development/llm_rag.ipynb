{
 "cells": [
  {
   "cell_type": "markdown",
   "id": "731c2ec7-bbe9-4456-a0e0-fbc57a79c2b6",
   "metadata": {},
   "source": [
    "# Advanced RAG Pipeline Utilizing LLM"
   ]
  },
  {
   "cell_type": "markdown",
   "id": "a9aba9e5-b304-4db6-a4a8-3d1d1553cd3f",
   "metadata": {
    "tags": []
   },
   "source": [
    "Basic RAG Capabilites: Developing pipeline to load, transform and embed data to store in vector database. \n",
    "<br>Plus LLM connection for Augmented Retreival\n",
    "<br>Chain and retreiver\n",
    "<br>Stuff document chain"
   ]
  },
  {
   "cell_type": "markdown",
   "id": "87350145-3974-46a1-b2b1-c45f17891116",
   "metadata": {},
   "source": [
    "Import libraries"
   ]
  },
  {
   "cell_type": "code",
   "execution_count": 1,
   "id": "35b96c23-9455-46fb-ae37-7ce69dc30a89",
   "metadata": {},
   "outputs": [],
   "source": [
    "import os \n",
    "import sys\n",
    "import platform\n",
    "import pkg_resources\n",
    "\n",
    "import langchain_community\n",
    "import langchain_core\n",
    "\n",
    "from langchain_community.document_loaders import PyPDFLoader\n",
    "from langchain_text_splitters import RecursiveCharacterTextSplitter\n",
    "from langchain_openai import OpenAIEmbeddings\n",
    "from langchain_community.vectorstores import Chroma, FAISS\n",
    "from langchain_core.prompts import PromptTemplate\n",
    "from langchain_openai import OpenAI\n",
    "from langchain.chains.combine_documents import create_stuff_documents_chain\n",
    "from langchain.chains import create_retrieval_chain\n",
    "\n",
    "from dotenv import load_dotenv"
   ]
  },
  {
   "cell_type": "code",
   "execution_count": 2,
   "id": "a4a16b9c-85c3-4936-ba7b-7d15665cdd8b",
   "metadata": {},
   "outputs": [
    {
     "name": "stdout",
     "output_type": "stream",
     "text": [
      "Python version: 3.10.5\n",
      "OS: Darwin 23.4.0\n",
      "\n",
      "langchain_community: 0.2.2\n",
      "langchain_core: 0.2.4\n"
     ]
    }
   ],
   "source": [
    "# Print Python, OS, and package versions\n",
    "print(f\"Python version: {platform.python_version()}\")\n",
    "print(f\"OS: {platform.system()} {platform.release()}\")\n",
    "print(\"\")\n",
    "print(f\"langchain_community: {langchain_community.__version__}\")\n",
    "print(f\"langchain_core: {langchain_core.__version__}\")"
   ]
  },
  {
   "cell_type": "markdown",
   "id": "faeaa5f4-13e8-493a-808e-510d0f880891",
   "metadata": {},
   "source": [
    "Load API keys"
   ]
  },
  {
   "cell_type": "code",
   "execution_count": 3,
   "id": "a430ae6a-2801-4bee-8a15-60faaab380e0",
   "metadata": {
    "tags": []
   },
   "outputs": [],
   "source": [
    "load_dotenv()\n",
    "\n",
    "os.environ['OPENAI_API_KEY'] = os.getenv('OPENAI_API_KEY')\n",
    "os.environ['LANGCHAIN_API_KEY'] = os.getenv('LANGCHAIN_API_KEY')"
   ]
  },
  {
   "cell_type": "markdown",
   "id": "f3f23615-8171-42ab-b677-6e37f1d8e70d",
   "metadata": {},
   "source": [
    "### Load, transform and embed"
   ]
  },
  {
   "cell_type": "code",
   "execution_count": 4,
   "id": "944dfe5c-f803-4d6d-b37f-83abfed4c9bf",
   "metadata": {},
   "outputs": [
    {
     "data": {
      "text/plain": [
       "[Document(page_content='ONLINE PLATFORMS AND MARKET POWER, \\nPART 6: EXAMINING THE DOMINANCE OF \\nAMAZON, APPLE, FACEBOOK, AND GOOGLE \\nHEARING \\nBEFORE THE  \\nSUBCOMMITTEE ON ANTITRUST, COMMERCIAL AND \\nADMINISTRATIVE LAW \\nOF THE  \\nCOMMITTEE ON THE JUDICIARY \\nHOUSE OF REPRESENTATIVES \\nONE HUNDRED SIXTEENTH CONGRESS \\nSECOND SESSION \\nJULY 29, 2020 \\nSerial No. 116–94 \\nPrinted for the use of the Committee on the Judiciary \\n( \\nAvailable http://judiciary.house.gov or www.govinfo.gov \\nVerDate Sep 11 2014 23:14 Mar 24, 2021 Jkt 041317 PO 00000 Frm 00001 Fmt 6011 Sfmt 6011 E:\\\\HR\\\\OC\\\\A317.XXX A317khammond on DSKJM1Z7X2PROD with HEARING', metadata={'source': '../data/sample_congressional_hearing.pdf', 'page': 0}),\n",
       " Document(page_content='ONLINE PLATFORMS AND MARKET POWER, PART 6: EXAMINING THE DOMINANCE OF AMAZON, \\nAPPLE, FACEBOOK, AND GOOGLE \\nVerDate Sep 11 2014 23:14 Mar 24, 2021 Jkt 041317 PO 00000 Frm 00002 Fmt 6019 Sfmt 6019 E:\\\\HR\\\\OC\\\\A317.XXX A317khammond on DSKJM1Z7X2PROD with HEARING', metadata={'source': '../data/sample_congressional_hearing.pdf', 'page': 1}),\n",
       " Document(page_content='U.S. GOVERNMENT PUBLISHING OFFICE\\nWASHINGTON : 41–317 2020 ONLINE PLATFORMS AND MARKET POWER, \\nPART 6: EXAMINING THE DOMINANCE OF \\nAMAZON, APPLE, FACEBOOK, AND GOOGLE \\nHEARING \\nBEFORE THE  \\nSUBCOMMITTEE ON ANTITRUST, COMMERCIAL AND \\nADMINISTRATIVE LAW \\nOF THE  \\nCOMMITTEE ON THE JUDICIARY \\nHOUSE OF REPRESENTATIVES \\nONE HUNDRED SIXTEENTH CONGRESS \\nSECOND SESSION \\nJULY 29, 2020 \\nSerial No. 116–94 \\nPrinted for the use of the Committee on the Judiciary \\n( \\nAvailable http://judiciary.house.gov or www.govinfo.gov \\nVerDate Sep 11 2014 23:14 Mar 24, 2021 Jkt 041317 PO 00000 Frm 00003 Fmt 5011 Sfmt 5011 E:\\\\HR\\\\OC\\\\A317.XXX A317khammond on DSKJM1Z7X2PROD with HEARING', metadata={'source': '../data/sample_congressional_hearing.pdf', 'page': 2})]"
      ]
     },
     "execution_count": 4,
     "metadata": {},
     "output_type": "execute_result"
    }
   ],
   "source": [
    "loader = PyPDFLoader('../data/sample_congressional_hearing.pdf')\n",
    "docs   = loader.load()\n",
    "\n",
    "docs[0:3]"
   ]
  },
  {
   "cell_type": "code",
   "execution_count": 5,
   "id": "da665ef6-40a3-4c30-af18-ae07babfd6cf",
   "metadata": {},
   "outputs": [
    {
     "name": "stdout",
     "output_type": "stream",
     "text": [
      "Number of chunks in docs: 758 \n",
      "\n",
      "Number of chunks ib split_docs: 1056 \n",
      "\n",
      "Preview below:\n",
      "\n",
      "[Document(page_content='ONLINE PLATFORMS AND MARKET POWER, \\nPART 6: EXAMINING THE DOMINANCE OF \\nAMAZON, APPLE, FACEBOOK, AND GOOGLE \\nHEARING \\nBEFORE THE  \\nSUBCOMMITTEE ON ANTITRUST, COMMERCIAL AND \\nADMINISTRATIVE LAW \\nOF THE  \\nCOMMITTEE ON THE JUDICIARY \\nHOUSE OF REPRESENTATIVES \\nONE HUNDRED SIXTEENTH CONGRESS \\nSECOND SESSION \\nJULY 29, 2020 \\nSerial No. 116–94 \\nPrinted for the use of the Committee on the Judiciary \\n( \\nAvailable http://judiciary.house.gov or www.govinfo.gov \\nVerDate Sep 11 2014 23:14 Mar 24, 2021 Jkt 041317 PO 00000 Frm 00001 Fmt 6011 Sfmt 6011 E:\\\\HR\\\\OC\\\\A317.XXX A317khammond on DSKJM1Z7X2PROD with HEARING', metadata={'source': '../data/sample_congressional_hearing.pdf', 'page': 0}), Document(page_content='ONLINE PLATFORMS AND MARKET POWER, PART 6: EXAMINING THE DOMINANCE OF AMAZON, \\nAPPLE, FACEBOOK, AND GOOGLE \\nVerDate Sep 11 2014 23:14 Mar 24, 2021 Jkt 041317 PO 00000 Frm 00002 Fmt 6019 Sfmt 6019 E:\\\\HR\\\\OC\\\\A317.XXX A317khammond on DSKJM1Z7X2PROD with HEARING', metadata={'source': '../data/sample_congressional_hearing.pdf', 'page': 1}), Document(page_content='U.S. GOVERNMENT PUBLISHING OFFICE\\nWASHINGTON : 41–317 2020 ONLINE PLATFORMS AND MARKET POWER, \\nPART 6: EXAMINING THE DOMINANCE OF \\nAMAZON, APPLE, FACEBOOK, AND GOOGLE \\nHEARING \\nBEFORE THE  \\nSUBCOMMITTEE ON ANTITRUST, COMMERCIAL AND \\nADMINISTRATIVE LAW \\nOF THE  \\nCOMMITTEE ON THE JUDICIARY \\nHOUSE OF REPRESENTATIVES \\nONE HUNDRED SIXTEENTH CONGRESS \\nSECOND SESSION \\nJULY 29, 2020 \\nSerial No. 116–94 \\nPrinted for the use of the Committee on the Judiciary \\n( \\nAvailable http://judiciary.house.gov or www.govinfo.gov \\nVerDate Sep 11 2014 23:14 Mar 24, 2021 Jkt 041317 PO 00000 Frm 00003 Fmt 5011 Sfmt 5011 E:\\\\HR\\\\OC\\\\A317.XXX A317khammond on DSKJM1Z7X2PROD with HEARING', metadata={'source': '../data/sample_congressional_hearing.pdf', 'page': 2})]\n"
     ]
    }
   ],
   "source": [
    "# Chunk the document using recursive text splitter\n",
    "text_spiltter = RecursiveCharacterTextSplitter(chunk_size = 1000, chunk_overlap = 20)\n",
    "split_doc     = text_spiltter.split_documents(docs)\n",
    "\n",
    "print(\"Number of chunks in docs:\", len(docs), \"\\n\")\n",
    "print(\"Number of chunks ib split_docs:\", len(split_doc), \"\\n\")\n",
    "print(\"Preview below:\\n\")\n",
    "print(split_doc[:3])"
   ]
  },
  {
   "cell_type": "code",
   "execution_count": 6,
   "id": "d63562a1-68cf-4459-9a46-9694d7680922",
   "metadata": {},
   "outputs": [],
   "source": [
    "# Convert to vector embeddings using OpenAI\n",
    "# Store vector embeddings in vectore database (vector store) \n",
    "\n",
    "# db = FAISS.from_documents((split_doc[:30]), OpenAIEmbeddings())\n",
    "db = FAISS.from_documents((split_doc[:]), OpenAIEmbeddings())"
   ]
  },
  {
   "cell_type": "code",
   "execution_count": 7,
   "id": "7d9466ca-ea39-4dfc-a464-6198ff8e4802",
   "metadata": {},
   "outputs": [
    {
     "data": {
      "text/plain": [
       "'as an editor at The New York Times, she wrote a letter explaining \\nwhy she resigned. And I’ll just read three sentences for—for all of you, actually. \\nVerDate Sep 11 2014 23:14 Mar 24, 2021 Jkt 041317 PO 00000 Frm 00161 Fmt 6602 Sfmt 6602 E:\\\\HR\\\\OC\\\\A317.XXX A317khammond on DSKJM1Z7X2PROD with HEARING'"
      ]
     },
     "execution_count": 7,
     "metadata": {},
     "output_type": "execute_result"
    }
   ],
   "source": [
    "# Query the vector database\n",
    "\n",
    "query = \"What is this text about?\"\n",
    "db.similarity_search(query)[0].page_content"
   ]
  },
  {
   "cell_type": "markdown",
   "id": "4e0d42dc-17b2-4241-abcf-f009a15e160d",
   "metadata": {},
   "source": [
    "### Implement LLM capabilites in RAG"
   ]
  },
  {
   "cell_type": "code",
   "execution_count": 8,
   "id": "161f50b3-c344-4263-a930-1255799e6a1b",
   "metadata": {},
   "outputs": [
    {
     "data": {
      "text/plain": [
       "OpenAI(client=<openai.resources.completions.Completions object at 0x110c45f00>, async_client=<openai.resources.completions.AsyncCompletions object at 0x1276b0b50>, openai_api_key=SecretStr('**********'), openai_proxy='')"
      ]
     },
     "execution_count": 8,
     "metadata": {},
     "output_type": "execute_result"
    }
   ],
   "source": [
    "# Load LLM\n",
    "llm = OpenAI(model_name=\"gpt-3.5-turbo-instruct\")\n",
    "# llm = OpenAI(model_name=\"gpt-3.5-turbo-instruct\")\n",
    "\n",
    "llm"
   ]
  },
  {
   "cell_type": "code",
   "execution_count": 9,
   "id": "4633a75f-2b09-4949-90ba-8dc4502f7919",
   "metadata": {},
   "outputs": [],
   "source": [
    "# Define prompt\n",
    "\n",
    "prompt_template = PromptTemplate.from_template(\"\"\"Answer the following question based only on the provided context.\n",
    "                                               Think step by step before providing a detailed answer.\n",
    "                                               Explain how you came to the answer. \n",
    "                                               The contexts is as follows: \n",
    "                                               <context>\n",
    "                                               {context}\n",
    "                                               </context>\n",
    "                                               Question: {input}\"\"\")\n"
   ]
  },
  {
   "cell_type": "code",
   "execution_count": 10,
   "id": "1d585640-d22e-4803-a22b-a0d4ffc48a6d",
   "metadata": {},
   "outputs": [
    {
     "name": "stdout",
     "output_type": "stream",
     "text": [
      "\t\t\t\t\t\t Answer the following question based only on the provided context.\n",
      "                                               Think step by step before providing a detailed answer.\n",
      "                                               Explain how you came to the answer. \n",
      "                                               The contexts is as follows: \n",
      "                                               <context>\n",
      "                                               <langchain_community.vectorstores.faiss.FAISS object at 0x127414160>\n",
      "                                               </context>\n",
      "                                               Question: What is this text about?\n"
     ]
    }
   ],
   "source": [
    "print(\"\\t\\t\\t\\t\\t\\t\",prompt_template.format(context = db, input = query))"
   ]
  },
  {
   "cell_type": "code",
   "execution_count": 11,
   "id": "f8075818-aeb6-4967-a7b1-26c70a595893",
   "metadata": {},
   "outputs": [],
   "source": [
    "# Create a chain for passing a list of Documents to a model.\n",
    "document_chain = create_stuff_documents_chain(llm , prompt_template)"
   ]
  },
  {
   "cell_type": "code",
   "execution_count": 12,
   "id": "5f7bd3ab-3a9c-42ff-b32f-c64d1bcee3b3",
   "metadata": {},
   "outputs": [
    {
     "data": {
      "text/plain": [
       "VectorStoreRetriever(tags=['FAISS', 'OpenAIEmbeddings'], vectorstore=<langchain_community.vectorstores.faiss.FAISS object at 0x127414160>)"
      ]
     },
     "execution_count": 12,
     "metadata": {},
     "output_type": "execute_result"
    }
   ],
   "source": [
    "# Create a retreiver\n",
    "retreiver = db.as_retriever()\n",
    "retreiver"
   ]
  },
  {
   "cell_type": "code",
   "execution_count": 13,
   "id": "643e0d00-4cef-4e4b-8ec8-a0896e2bc56a",
   "metadata": {},
   "outputs": [],
   "source": [
    "# Create a retreival chain (retreiver + document chain = retreiver chain)\n",
    "retrieval_chain = create_retrieval_chain(retreiver , document_chain)"
   ]
  },
  {
   "cell_type": "code",
   "execution_count": 14,
   "id": "229cc22d-7e1e-44d9-8719-60ef616ef957",
   "metadata": {},
   "outputs": [
    {
     "data": {
      "text/plain": [
       "{'input': 'What is this text about?',\n",
       " 'context': [Document(page_content='as an editor at The New York Times, she wrote a letter explaining \\nwhy she resigned. And I’ll just read three sentences for—for all of you, actually. \\nVerDate Sep 11 2014 23:14 Mar 24, 2021 Jkt 041317 PO 00000 Frm 00161 Fmt 6602 Sfmt 6602 E:\\\\HR\\\\OC\\\\A317.XXX A317khammond on DSKJM1Z7X2PROD with HEARING', metadata={'source': '../data/sample_congressional_hearing.pdf', 'page': 160}),\n",
       "  Document(page_content='to address this and, frankly, to correct the record, because I believe that what he was referring to was a question that was incoming from investors about whether we would continue to acquire dif-ferent companies. I don’t think that was—that wasn’t referring to an internal strategy; it was referring to an external question that we were facing about how investors should expect us to act going forward. \\nAnd I think he was discussing the fact that, as mobile phones \\nwere growing in popularity, there were a lot of new ways that peo-ple could connect and communicate that were part of this overall broader space and market around human connection and helping people stay connected and share their experiences that were—— \\nMr. G\\nAETZ . Okay, but, Mr. Zuckerberg, it seems to be both inter-\\nnal and external, because then in an email from you in 2012, we see a similar sentiment expressed. You write, ‘‘We can likely al-ways just buy any competitive startups.’’', metadata={'source': '../data/sample_congressional_hearing.pdf', 'page': 154}),\n",
       "  Document(page_content='114 \\nI don’t even understand what’s going on in that anecdote, be-\\ncause we would love for third-party sellers to sell books—— \\nMrs. M CBATH. Well, respectfully, sir—— \\nMr. B EZOS [continuing]. On the website. So I don’t understand it, \\nbut I would like to understand it better. And—— \\nMrs. M CBATH. That’s the point, sir. \\nMr. B EZOS [continuing]. With your permission, I would like to get \\nin touch with your office. \\nMrs. M CBATH. I think, though, that you’re missing the point. \\nThis is not just about one business. I’m concerned that this is a \\npattern of behavior. And, basically, this pattern of behavior has to change. \\nMr. Bezos, my question is simply: Are you willing to make sure, \\ngoing forward, that, you know—the numerous sellers that we’ve talked to, they have problems just like this. And there are more sellers who have told us that they have exhausted all of their op-tions before finally reaching out to you directly as a last resort, but they’re still waiting for your response.', metadata={'source': '../data/sample_congressional_hearing.pdf', 'page': 119}),\n",
       "  Document(page_content='now my campaign emails, so clearly that familial thing that you’re talking about didn’t apply to my emails. \\nMr. P\\nICHAI . Our systems probably are not able to understand \\nthat your campaign—I mean that it’s your father. Obviously, we don’t have that context there. We just apply it neutrally across, you know, all organizations and, you know—— \\nMr. S\\nTEUBE . Well, what assurances can you give me that \\nthere’s—my time is short. One last question. What assurances can \\nVerDate Sep 11 2014 23:14 Mar 24, 2021 Jkt 041317 PO 00000 Frm 00110 Fmt 6602 Sfmt 6602 E:\\\\HR\\\\OC\\\\A317.XXX A317khammond on DSKJM1Z7X2PROD with HEARING', metadata={'source': '../data/sample_congressional_hearing.pdf', 'page': 109})],\n",
       " 'answer': '\\n\\nThis text is about a congressional hearing where members of Congress are questioning the CEOs of major tech companies (possibly Facebook, Amazon, and Google) about their business practices and concerns about antitrust violations. The focus of the questioning seems to be on data privacy and fair competition for smaller businesses.'}"
      ]
     },
     "execution_count": 14,
     "metadata": {},
     "output_type": "execute_result"
    }
   ],
   "source": [
    "retrieval_chain.invoke({\"input\" : \"What is this text about?\"})"
   ]
  },
  {
   "cell_type": "code",
   "execution_count": 15,
   "id": "35bfaa1f-b182-4a65-9763-3c4ec6aa9366",
   "metadata": {},
   "outputs": [
    {
     "name": "stdout",
     "output_type": "stream",
     "text": [
      "\n",
      "\n",
      "This text is about a hearing where members of Congress are questioning the CEOs of major tech companies, including Amazon and Google, about their business practices and treatment of third-party sellers and user data. The specific excerpt is a dialogue between Representative Lucy McBath and Amazon CEO Jeff Bezos, where she expresses concerns about a pattern of behavior and asks for assurances that these issues will be addressed in the future.\n"
     ]
    }
   ],
   "source": [
    "print(retrieval_chain.invoke({\"input\" : \"What is this text about?\"})['answer'])"
   ]
  },
  {
   "cell_type": "code",
   "execution_count": 16,
   "id": "dc6b415d-e515-494c-85ef-4dca45ed4e13",
   "metadata": {},
   "outputs": [
    {
     "name": "stdout",
     "output_type": "stream",
     "text": [
      "\n",
      "\n",
      "The people speaking are members of the subcommittee, including Mr. CICILLINE, who is the chairman, and Mr. ZUCKERBERG, who is one of the witnesses invited to testify.\n"
     ]
    }
   ],
   "source": [
    "print(retrieval_chain.invoke({\"input\" : \"Who are the people speaking?\"})['answer'])"
   ]
  },
  {
   "cell_type": "code",
   "execution_count": 27,
   "id": "ca03c95e-e7aa-4676-9ae7-2f6c6be08d0a",
   "metadata": {},
   "outputs": [
    {
     "name": "stdout",
     "output_type": "stream",
     "text": [
      "\n",
      "\n",
      "Answer: \n",
      "- Mr. CICILLINE\n",
      "- Tim Cook\n",
      "- Mark Zuckerberg\n"
     ]
    }
   ],
   "source": [
    "print(retrieval_chain.invoke({\"input\" : \"Who are all the people speaking? Could you list them all in bullets?\"})['answer'])"
   ]
  },
  {
   "cell_type": "code",
   "execution_count": 19,
   "id": "bee86058-5c67-4c4a-8252-6765f1ed7836",
   "metadata": {},
   "outputs": [
    {
     "name": "stdout",
     "output_type": "stream",
     "text": [
      "\n",
      "\n",
      "Answer: The tone of the investigation was serious and bipartisan. The conflict was the potential for online market power to harm innovation, privacy, and independent businesses. The resolution was for the subcommittee to publish a report with proposed solutions to these problems.\n"
     ]
    }
   ],
   "source": [
    "print(retrieval_chain.invoke({\"input\" : \"What was the tone of the investigation? What was the conflict and resolution if any?\"})['answer'])"
   ]
  },
  {
   "cell_type": "code",
   "execution_count": 20,
   "id": "b86ad3cf-e97d-487b-add0-f520aa629077",
   "metadata": {},
   "outputs": [
    {
     "name": "stdout",
     "output_type": "stream",
     "text": [
      "\n",
      "\n",
      "Opening statements:\n",
      "- Representatives are asked to swear or affirm under penalty of perjury that their testimony is true and correct.\n",
      "- All witnesses answer in the affirmative.\n",
      "- Witnesses are asked to summarize their testimonies in 5 minutes with the help of a timing light.\n",
      "\n",
      "Witness testimonies:\n",
      "- Jeff Bezos, CEO of Amazon.com, Inc., testifies.\n",
      "- Sundar Pichai, CEO of Google, Inc., testifies.\n",
      "- Tim Cook, CEO of Apple Inc., testifies.\n",
      "- Mark Zuckerberg, CEO of Facebook, Inc., testifies.\n",
      "\n",
      "Closing statements:\n",
      "- Majority members submit letters and statements for the hearing record.\n",
      "- Witnesses are thanked for their participation.\n",
      "- Witnesses are sworn in and reminded to mute themselves if needed.\n",
      "\n",
      "Conflicts and resolutions:\n",
      "- Witnesses are the only ones invited to testify from their respective companies.\n",
      "- Witnesses must provide their own sworn testimony.\n",
      "- Representatives are reminded to let the committee know if they need to mute themselves.\n"
     ]
    }
   ],
   "source": [
    "print(retrieval_chain.invoke({\"input\" : \"Create a summary of the text, Present it in key bullet points. Give me the opening testimonies, witness testimonies and closing testimonies as well as any conflicts and resolutions\"})['answer'])"
   ]
  },
  {
   "cell_type": "code",
   "execution_count": null,
   "id": "969d5e58-f282-41f9-9088-3619a5143061",
   "metadata": {},
   "outputs": [],
   "source": []
  }
 ],
 "metadata": {
  "kernelspec": {
   "display_name": "Python (venv_rag_pipeline)",
   "language": "python",
   "name": "venv_rag_pipeline"
  },
  "language_info": {
   "codemirror_mode": {
    "name": "ipython",
    "version": 3
   },
   "file_extension": ".py",
   "mimetype": "text/x-python",
   "name": "python",
   "nbconvert_exporter": "python",
   "pygments_lexer": "ipython3",
   "version": "3.10.5"
  }
 },
 "nbformat": 4,
 "nbformat_minor": 5
}
