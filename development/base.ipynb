{
 "cells": [
  {
   "cell_type": "markdown",
   "id": "bae25d3b-8660-4b1b-a9eb-26c511dc4b63",
   "metadata": {},
   "source": [
    "# Simple Base RAG Pipeline "
   ]
  },
  {
   "cell_type": "markdown",
   "id": "c879a9a3-ea6e-4d60-a040-072d19868674",
   "metadata": {},
   "source": [
    "### Testing the basic capabilities and configurations. \n",
    "### Load, Transform and Embed data before storing in a Vector Store"
   ]
  },
  {
   "cell_type": "markdown",
   "id": "590f13f6-5b2d-485b-927f-a1de939699f4",
   "metadata": {},
   "source": [
    "Import Libraries"
   ]
  },
  {
   "cell_type": "code",
   "execution_count": 1,
   "id": "cf625df0-726c-4770-bcd9-805e23aaad91",
   "metadata": {},
   "outputs": [],
   "source": [
    "import os \n",
    "import sys\n",
    "import platform\n",
    "import pkg_resources\n",
    "\n",
    "from sklearn.metrics.pairwise import cosine_similarity\n",
    "import numpy as np\n",
    "import pandas as pd\n",
    "\n",
    "from langchain_community.document_loaders import TextLoader, WebBaseLoader, PyPDFLoader\n",
    "from dotenv import load_dotenv\n",
    "import bs4 \n",
    "from langchain_text_splitters import RecursiveCharacterTextSplitter\n",
    "from langchain_community.embeddings import OllamaEmbeddings\n",
    "from langchain_openai import OpenAIEmbeddings\n",
    "from langchain_community.vectorstores import Chroma"
   ]
  },
  {
   "cell_type": "code",
   "execution_count": 2,
   "id": "c08c8477-aaa0-4dd9-acb9-c203e7711045",
   "metadata": {},
   "outputs": [
    {
     "name": "stdout",
     "output_type": "stream",
     "text": [
      "Python version: 3.10.5\n",
      "OS: Darwin 23.4.0\n"
     ]
    }
   ],
   "source": [
    "# Print Python, OS, and package versions\n",
    "print(f\"Python version: {platform.python_version()}\")\n",
    "print(f\"OS: {platform.system()} {platform.release()}\")\n"
   ]
  },
  {
   "cell_type": "markdown",
   "id": "06799aa9-7fbc-4654-9fbf-45a7e80293d2",
   "metadata": {},
   "source": [
    "Load API keys"
   ]
  },
  {
   "cell_type": "code",
   "execution_count": 3,
   "id": "f5bf7599-4ffd-4784-8117-245015360f79",
   "metadata": {
    "tags": []
   },
   "outputs": [],
   "source": [
    "load_dotenv()\n",
    "\n",
    "os.environ['OPENAI_API_KEY'] = os.getenv('OPENAI_API_KEY')\n",
    "os.environ['LANGCHAIN_API_KEY'] = os.getenv('LANGCHAIN_API_KEY')"
   ]
  },
  {
   "cell_type": "markdown",
   "id": "6b5f3f8b-4ad3-47fa-aa81-d2439d3947d6",
   "metadata": {
    "tags": []
   },
   "source": [
    "#### 1. Data ingestion"
   ]
  },
  {
   "cell_type": "markdown",
   "id": "6749780f-4fb0-48a3-9468-d5135ade474f",
   "metadata": {},
   "source": [
    "From static text file"
   ]
  },
  {
   "cell_type": "code",
   "execution_count": 4,
   "id": "5839f9ff-eae6-4441-97c5-fab8d293ff0c",
   "metadata": {
    "tags": []
   },
   "outputs": [],
   "source": [
    "loader = TextLoader('../data/sample_congressional_hearing.txt')\n",
    "text   = loader.load()"
   ]
  },
  {
   "cell_type": "markdown",
   "id": "96acb774-d25c-4c30-a127-d4bf74a4e28a",
   "metadata": {},
   "source": [
    "From web based html file "
   ]
  },
  {
   "cell_type": "code",
   "execution_count": 5,
   "id": "dd4527ea-e3ac-48d2-be05-65848edfc359",
   "metadata": {},
   "outputs": [],
   "source": [
    "# Load, index and chunk \n",
    "loader = WebBaseLoader(web_paths  = ('https://docs.house.gov/Committee/Calendar/ByEvent.aspx?EventID=110883',),\n",
    "                       bs_kwargs  = dict(parse_only = bs4.SoupStrainer(\n",
    "                           class_ = ('well', 'meeting-date', 'witnessPanel'))))"
   ]
  },
  {
   "cell_type": "code",
   "execution_count": 6,
   "id": "fc7d45da-6fed-4594-a7dd-f6ec209b8c2b",
   "metadata": {},
   "outputs": [
    {
     "data": {
      "text/plain": [
       "[Document(page_content='\\n\\r\\n                Hearing:\\r\\n               Online Platforms and Market Power, Part 6: Examining the Dominance of Amazon, Apple, Facebook, and Google\\nSubcommittee on Antitrust, Commercial, and Administrative Law (Committee on the Judiciary)\\n\\n\\n\\r\\n    Wednesday, July 29, 2020 (12:00 PM)\\r\\n                  Meeting was rescheduled to the time and date listed above.\\r\\n                \\nMr. Jeff Bezos Chief Executive Officer, Amazon.com, Inc.\\r\\n        Added\\r\\n        07/28/2020 at 07:32 PM\\nJeff Bezos Statement\\r\\n      [PDF]\\r\\n    \\r\\n        Added\\r\\n        07/28/2020 at 07:32 PM\\nJeff Bezos Truth in Testimony\\r\\n      [PDF]\\r\\n    \\r\\n        Added\\r\\n        07/30/2020 at 01:24 PM\\nJeff Bezos Bio\\r\\n      [PDF]\\r\\n    \\r\\n        Added\\r\\n        07/30/2020 at 01:24 PM\\n\\n\\nMr. Sundar Pichai Chief Executive Officer, Alphabet Inc.\\r\\n        Added\\r\\n        07/28/2020 at 07:32 PM\\nSundar Pichai Statement\\r\\n      [PDF]\\r\\n    \\r\\n        Added\\r\\n        07/28/2020 at 07:32 PM\\nSundar Pichai Truth in Testimony\\r\\n      [PDF]\\r\\n    \\r\\n        Added\\r\\n        07/30/2020 at 01:24 PM\\nSundar Pichai Bio\\r\\n      [PDF]\\r\\n    \\r\\n        Added\\r\\n        07/30/2020 at 01:24 PM\\n\\n\\nMr. Tim Cook Chief Executive Officer, Apple Inc.\\r\\n        Added\\r\\n        07/28/2020 at 07:32 PM\\nTim Cook Statement and Bio\\r\\n      [PDF]\\r\\n    \\r\\n        Added\\r\\n        07/28/2020 at 08:30 PM\\nTim Cook Truth in Testimony\\r\\n      [PDF]\\r\\n    \\r\\n        Added\\r\\n        07/30/2020 at 05:04 PM\\n\\n\\nMr. Mark Zuckerberg Chief Executive Officer, Facebook, Inc.\\r\\n        Added\\r\\n        07/28/2020 at 07:32 PM\\nMark Zuckerberg Statement\\r\\n      [PDF]\\r\\n    \\r\\n        Added\\r\\n        07/28/2020 at 07:32 PM\\nMark Zuckerberg Truth in Testimony\\r\\n      [PDF]\\r\\n    \\r\\n        Added\\r\\n        07/30/2020 at 01:24 PM\\n\\n', metadata={'source': 'https://docs.house.gov/Committee/Calendar/ByEvent.aspx?EventID=110883'})]"
      ]
     },
     "execution_count": 6,
     "metadata": {},
     "output_type": "execute_result"
    }
   ],
   "source": [
    "text   = loader.load()\n",
    "text"
   ]
  },
  {
   "cell_type": "code",
   "execution_count": 7,
   "id": "34cd51fe-93ef-49bd-8860-c9b4232f6a79",
   "metadata": {},
   "outputs": [
    {
     "name": "stdout",
     "output_type": "stream",
     "text": [
      "Hearing:                Online Platforms and Market Power, Part 6: Examining the Dominance of Amazon, Apple, Facebook, and Google Subcommittee on Antitrust, Commercial, and Administrative Law (Committee on the Judiciary)        Wednesday, July 29, 2020 (12:00 PM)                   Meeting was rescheduled to the time and date listed above.                  Mr. Jeff Bezos Chief Executive Officer, Amazon.com, Inc.         Added         07/28/2020 at 07:32 PM Jeff Bezos Statement       [PDF]              Added         07/28/2020 at 07:32 PM Jeff Bezos Truth in Testimony       [PDF]              Added         07/30/2020 at 01:24 PM Jeff Bezos Bio       [PDF]              Added         07/30/2020 at 01:24 PM   Mr. Sundar Pichai Chief Executive Officer, Alphabet Inc.         Added         07/28/2020 at 07:32 PM Sundar Pichai Statement       [PDF]              Added         07/28/2020 at 07:32 PM Sundar Pichai Truth in Testimony       [PDF]              Added         07/30/2020 at 01:24 PM Sundar Pichai Bio       [PDF]              Added         07/30/2020 at 01:24 PM   Mr. Tim Cook Chief Executive Officer, Apple Inc.         Added         07/28/2020 at 07:32 PM Tim Cook Statement and Bio       [PDF]              Added         07/28/2020 at 08:30 PM Tim Cook Truth in Testimony       [PDF]              Added         07/30/2020 at 05:04 PM   Mr. Mark Zuckerberg Chief Executive Officer, Facebook, Inc.         Added         07/28/2020 at 07:32 PM Mark Zuckerberg Statement       [PDF]              Added         07/28/2020 at 07:32 PM Mark Zuckerberg Truth in Testimony       [PDF]              Added         07/30/2020 at 01:24 PM\n"
     ]
    }
   ],
   "source": [
    "for doc in text:\n",
    "    cleaned_content = doc.page_content.replace('\\r', '').replace('\\n', ' ').strip()\n",
    "    print(cleaned_content)"
   ]
  },
  {
   "cell_type": "markdown",
   "id": "050acab9-9efe-44c8-b750-2050fc4e85a2",
   "metadata": {},
   "source": [
    "From static PDF"
   ]
  },
  {
   "cell_type": "code",
   "execution_count": 8,
   "id": "51f85312-8da1-4901-89f3-53006b290435",
   "metadata": {},
   "outputs": [],
   "source": [
    "loader = PyPDFLoader('../data/sample_congressional_hearing.pdf')\n",
    "text   = loader.load()"
   ]
  },
  {
   "cell_type": "code",
   "execution_count": 9,
   "id": "e38ec5f7-c9af-4589-be42-4a485ec94cbe",
   "metadata": {},
   "outputs": [
    {
     "name": "stdout",
     "output_type": "stream",
     "text": [
      "Document 1 Preview:\n",
      "ONLINE PLATFORMS AND MARKET POWER, \n",
      "PART 6: EXAMINING THE DOMINANCE OF \n",
      "AMAZON, APPLE, FACEBOOK, AND GOOGLE \n",
      "HEARING \n",
      "BEFORE THE  \n",
      "SUBCOMMITTEE ON ANTITRUST, COMMERCIAL AND \n",
      "ADMINISTRATIVE LAW \n",
      "OF THE  \n",
      "COMMITTEE ON THE JUDICIARY \n",
      "HOUSE OF REPRESENTATIVES \n",
      "ONE HUNDRED SIXTEENTH CONGRESS \n",
      "SECOND SESSION \n",
      "JULY 29, 2020 \n",
      "Serial No. 116–94 \n",
      "Printed for the use of the Committee on the Judiciary \n",
      "( \n",
      "Available http://judiciary.house.gov or www.govinfo.gov \n",
      "VerDate Sep 11 2014 23:14 Mar 24, 2021 Jkt 041\n",
      "\n",
      "--- End of Preview ---\n",
      "\n",
      "Document 2 Preview:\n",
      "ONLINE PLATFORMS AND MARKET POWER, PART 6: EXAMINING THE DOMINANCE OF AMAZON, \n",
      "APPLE, FACEBOOK, AND GOOGLE \n",
      "VerDate Sep 11 2014 23:14 Mar 24, 2021 Jkt 041317 PO 00000 Frm 00002 Fmt 6019 Sfmt 6019 E:\\HR\\OC\\A317.XXX A317khammond on DSKJM1Z7X2PROD with HEARING\n",
      "\n",
      "--- End of Preview ---\n",
      "\n",
      "Document 3 Preview:\n",
      "U.S. GOVERNMENT PUBLISHING OFFICE\n",
      "WASHINGTON : 41–317 2020 ONLINE PLATFORMS AND MARKET POWER, \n",
      "PART 6: EXAMINING THE DOMINANCE OF \n",
      "AMAZON, APPLE, FACEBOOK, AND GOOGLE \n",
      "HEARING \n",
      "BEFORE THE  \n",
      "SUBCOMMITTEE ON ANTITRUST, COMMERCIAL AND \n",
      "ADMINISTRATIVE LAW \n",
      "OF THE  \n",
      "COMMITTEE ON THE JUDICIARY \n",
      "HOUSE OF REPRESENTATIVES \n",
      "ONE HUNDRED SIXTEENTH CONGRESS \n",
      "SECOND SESSION \n",
      "JULY 29, 2020 \n",
      "Serial No. 116–94 \n",
      "Printed for the use of the Committee on the Judiciary \n",
      "( \n",
      "Available http://judiciary.house.gov or www.\n",
      "\n",
      "--- End of Preview ---\n",
      "\n"
     ]
    }
   ],
   "source": [
    "# Define the number of documents and the number of characters to preview\n",
    "num_docs_to_preview = 3  # Number of documents to preview\n",
    "preview_length = 500     # Number of characters to preview per document\n",
    "\n",
    "# Print a preview of the loaded text content\n",
    "for i, doc in enumerate(text):\n",
    "    if i >= num_docs_to_preview:\n",
    "        break\n",
    "    preview_content = doc.page_content[:preview_length]\n",
    "    print(f\"Document {i+1} Preview:\\n{preview_content}\")\n",
    "    print(\"\\n--- End of Preview ---\\n\")"
   ]
  },
  {
   "cell_type": "markdown",
   "id": "c5b6d04f-cea1-41aa-bcf8-3885cc567c8b",
   "metadata": {},
   "source": [
    "#### 2. Transform"
   ]
  },
  {
   "cell_type": "code",
   "execution_count": 10,
   "id": "5c6582dc-20cf-4668-9688-a1054928490a",
   "metadata": {},
   "outputs": [
    {
     "name": "stdout",
     "output_type": "stream",
     "text": [
      "Number of chunks: 758 \n",
      "\n",
      "Preview below:\n",
      "\n",
      "[Document(page_content='ONLINE PLATFORMS AND MARKET POWER, \\nPART 6: EXAMINING THE DOMINANCE OF \\nAMAZON, APPLE, FACEBOOK, AND GOOGLE \\nHEARING \\nBEFORE THE  \\nSUBCOMMITTEE ON ANTITRUST, COMMERCIAL AND \\nADMINISTRATIVE LAW \\nOF THE  \\nCOMMITTEE ON THE JUDICIARY \\nHOUSE OF REPRESENTATIVES \\nONE HUNDRED SIXTEENTH CONGRESS \\nSECOND SESSION \\nJULY 29, 2020 \\nSerial No. 116–94 \\nPrinted for the use of the Committee on the Judiciary \\n( \\nAvailable http://judiciary.house.gov or www.govinfo.gov \\nVerDate Sep 11 2014 23:14 Mar 24, 2021 Jkt 041317 PO 00000 Frm 00001 Fmt 6011 Sfmt 6011 E:\\\\HR\\\\OC\\\\A317.XXX A317khammond on DSKJM1Z7X2PROD with HEARING', metadata={'source': '../data/sample_congressional_hearing.pdf', 'page': 0}), Document(page_content='ONLINE PLATFORMS AND MARKET POWER, PART 6: EXAMINING THE DOMINANCE OF AMAZON, \\nAPPLE, FACEBOOK, AND GOOGLE \\nVerDate Sep 11 2014 23:14 Mar 24, 2021 Jkt 041317 PO 00000 Frm 00002 Fmt 6019 Sfmt 6019 E:\\\\HR\\\\OC\\\\A317.XXX A317khammond on DSKJM1Z7X2PROD with HEARING', metadata={'source': '../data/sample_congressional_hearing.pdf', 'page': 1}), Document(page_content='U.S. GOVERNMENT PUBLISHING OFFICE\\nWASHINGTON : 41–317 2020 ONLINE PLATFORMS AND MARKET POWER, \\nPART 6: EXAMINING THE DOMINANCE OF \\nAMAZON, APPLE, FACEBOOK, AND GOOGLE \\nHEARING \\nBEFORE THE  \\nSUBCOMMITTEE ON ANTITRUST, COMMERCIAL AND \\nADMINISTRATIVE LAW \\nOF THE  \\nCOMMITTEE ON THE JUDICIARY \\nHOUSE OF REPRESENTATIVES \\nONE HUNDRED SIXTEENTH CONGRESS \\nSECOND SESSION \\nJULY 29, 2020 \\nSerial No. 116–94 \\nPrinted for the use of the Committee on the Judiciary \\n( \\nAvailable http://judiciary.house.gov or www.govinfo.gov \\nVerDate Sep 11 2014 23:14 Mar 24, 2021 Jkt 041317 PO 00000 Frm 00003 Fmt 5011 Sfmt 5011 E:\\\\HR\\\\OC\\\\A317.XXX A317khammond on DSKJM1Z7X2PROD with HEARING', metadata={'source': '../data/sample_congressional_hearing.pdf', 'page': 2})]\n"
     ]
    }
   ],
   "source": [
    "# Chunk the document using recursive text splitter\n",
    "text_spiltter = RecursiveCharacterTextSplitter(chunk_size = 1000, chunk_overlap = 200)\n",
    "split_doc     = text_spiltter.split_documents(text)\n",
    "\n",
    "print(\"Number of chunks:\", len(text), \"\\n\")\n",
    "print(\"Preview below:\\n\")\n",
    "print(split_doc[:3])"
   ]
  },
  {
   "cell_type": "markdown",
   "id": "6886c3ca-ee5a-466d-9d2f-a9cab9d42df8",
   "metadata": {},
   "source": [
    "#### 3. Embed"
   ]
  },
  {
   "cell_type": "code",
   "execution_count": 11,
   "id": "e6b3f25f-e9f0-49b6-b5af-cc62ec079ca0",
   "metadata": {},
   "outputs": [],
   "source": [
    "# Convert to vector embeddings using OpenAI\n",
    "# Store vector embeddings in vectore database (vector store) \n",
    "\n",
    "db = Chroma.from_documents((split_doc[:20]), OpenAIEmbeddings())"
   ]
  },
  {
   "cell_type": "code",
   "execution_count": 12,
   "id": "cfe36fa7-9ab0-4c52-bc89-3210453bfc37",
   "metadata": {},
   "outputs": [
    {
     "data": {
      "text/plain": [
       "'LETTERS, STATEMENTS, ETC., SUBMITTED FOR THE HEARING \\nExhibits Used at Hearing ....................................................................................... 42 ‘‘Police Requests for Google Users’ Location Histories Face New Scrutiny,’’ \\na Wall Street Journal article for the record from the Honorable Kelly Armstrong, Member, Subcommittee on Antitrust, Commercial and Adminis-trative Law ........................................................................................................... 89 \\nLetter to Apple by Representatives Greg Walden and Cathy McMorris Rod-\\ngers from the Honorable Kelly Armstrong, Member, Subcommittee on Anti-trust, Commercial and Administrative Law ...................................................... 95 \\nLetter to Google by Representatives Greg Walden and Cathy McMorris Rod-\\ngers from the Honorable Kelly Armstrong, Member, Subcommittee on Anti-trust, Commercial and Administrative Law ...................................................... 98'"
      ]
     },
     "execution_count": 12,
     "metadata": {},
     "output_type": "execute_result"
    }
   ],
   "source": [
    "# Query the vector database\n",
    "\n",
    "query = \"What is this text about?\"\n",
    "db.similarity_search(query)[0].page_content"
   ]
  }
 ],
 "metadata": {
  "kernelspec": {
   "display_name": "Python (venv_rag_pipeline)",
   "language": "python",
   "name": "venv_rag_pipeline"
  },
  "language_info": {
   "codemirror_mode": {
    "name": "ipython",
    "version": 3
   },
   "file_extension": ".py",
   "mimetype": "text/x-python",
   "name": "python",
   "nbconvert_exporter": "python",
   "pygments_lexer": "ipython3",
   "version": "3.10.9"
  }
 },
 "nbformat": 4,
 "nbformat_minor": 5
}
