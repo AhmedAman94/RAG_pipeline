{
 "cells": [
  {
   "cell_type": "markdown",
   "id": "731c2ec7-bbe9-4456-a0e0-fbc57a79c2b6",
   "metadata": {},
   "source": [
    "# Advanced RAG Pipeline Utilizing LLM"
   ]
  },
  {
   "cell_type": "markdown",
   "id": "a9aba9e5-b304-4db6-a4a8-3d1d1553cd3f",
   "metadata": {
    "tags": []
   },
   "source": [
    "Basic RAG Capabilites: Developing pipeline to load, transform and embed data to store in vector database. \n",
    "<br>Plus LLM connection for Augmented Retreival\n",
    "<br>Chain and retreiver with stuff document chaining will be implemented"
   ]
  },
  {
   "cell_type": "markdown",
   "id": "c4c3bb43-5a16-4ad6-b041-624028d6832d",
   "metadata": {
    "jp-MarkdownHeadingCollapsed": true,
    "tags": []
   },
   "source": [
    "Utilize GPT 4 or higher"
   ]
  },
  {
   "cell_type": "markdown",
   "id": "87350145-3974-46a1-b2b1-c45f17891116",
   "metadata": {},
   "source": [
    "Import libraries"
   ]
  },
  {
   "cell_type": "code",
   "execution_count": 1,
   "id": "35b96c23-9455-46fb-ae37-7ce69dc30a89",
   "metadata": {},
   "outputs": [],
   "source": [
    "import os \n",
    "import sys\n",
    "import platform\n",
    "import pkg_resources\n",
    "\n",
    "import langchain_community\n",
    "import langchain_core\n",
    "\n",
    "from langchain_community.document_loaders import PyPDFLoader\n",
    "from langchain_text_splitters import RecursiveCharacterTextSplitter\n",
    "from langchain_openai import OpenAIEmbeddings\n",
    "from langchain_community.vectorstores import Chroma, FAISS\n",
    "from langchain_core.prompts import PromptTemplate\n",
    "from langchain_openai import OpenAI\n",
    "from langchain.chains.combine_documents import create_stuff_documents_chain\n",
    "from langchain.chains import create_retrieval_chain\n",
    "import openai\n",
    "from openai import OpenAI\n",
    "\n",
    "from dotenv import load_dotenv"
   ]
  },
  {
   "cell_type": "code",
   "execution_count": 2,
   "id": "a4a16b9c-85c3-4936-ba7b-7d15665cdd8b",
   "metadata": {},
   "outputs": [
    {
     "name": "stdout",
     "output_type": "stream",
     "text": [
      "Python version: 3.10.5\n",
      "OS: Darwin 23.4.0\n",
      "\n",
      "langchain_community: 0.2.4\n",
      "langchain_core: 0.2.5\n",
      "openai: 1.33.0\n"
     ]
    }
   ],
   "source": [
    "# Print Python, OS, and package versions\n",
    "print(f\"Python version: {platform.python_version()}\")\n",
    "print(f\"OS: {platform.system()} {platform.release()}\")\n",
    "print(\"\")\n",
    "print(f\"langchain_community: {langchain_community.__version__}\")\n",
    "print(f\"langchain_core: {langchain_core.__version__}\")\n",
    "print(f\"openai: {openai.__version__}\")"
   ]
  },
  {
   "cell_type": "markdown",
   "id": "faeaa5f4-13e8-493a-808e-510d0f880891",
   "metadata": {},
   "source": [
    "Load API keys"
   ]
  },
  {
   "cell_type": "code",
   "execution_count": 3,
   "id": "a430ae6a-2801-4bee-8a15-60faaab380e0",
   "metadata": {
    "tags": []
   },
   "outputs": [],
   "source": [
    "load_dotenv()\n",
    "\n",
    "os.environ['OPENAI_API_KEY']       = os.getenv('OPENAI_API_KEY')\n",
    "os.environ['LANGCHAIN_API_KEY']    = os.getenv('LANGCHAIN_API_KEY')\n",
    "os.environ[\"LANGCHAIN_API_KEY\"]    = os.getenv(\"LANGCHAIN_API_KEY\")   \n",
    "os.environ[\"LANGCHAIN_TRACING_V2\"] = \"true\"                           "
   ]
  },
  {
   "cell_type": "markdown",
   "id": "f3f23615-8171-42ab-b677-6e37f1d8e70d",
   "metadata": {
    "tags": []
   },
   "source": [
    "### Load, transform and embed"
   ]
  },
  {
   "cell_type": "code",
   "execution_count": 4,
   "id": "944dfe5c-f803-4d6d-b37f-83abfed4c9bf",
   "metadata": {},
   "outputs": [
    {
     "data": {
      "text/plain": [
       "[Document(page_content='ONLINE PLATFORMS AND MARKET POWER, \\nPART 6: EXAMINING THE DOMINANCE OF \\nAMAZON, APPLE, FACEBOOK, AND GOOGLE \\nHEARING \\nBEFORE THE  \\nSUBCOMMITTEE ON ANTITRUST, COMMERCIAL AND \\nADMINISTRATIVE LAW \\nOF THE  \\nCOMMITTEE ON THE JUDICIARY \\nHOUSE OF REPRESENTATIVES \\nONE HUNDRED SIXTEENTH CONGRESS \\nSECOND SESSION \\nJULY 29, 2020 \\nSerial No. 116–94 \\nPrinted for the use of the Committee on the Judiciary \\n( \\nAvailable http://judiciary.house.gov or www.govinfo.gov \\nVerDate Sep 11 2014 23:14 Mar 24, 2021 Jkt 041317 PO 00000 Frm 00001 Fmt 6011 Sfmt 6011 E:\\\\HR\\\\OC\\\\A317.XXX A317khammond on DSKJM1Z7X2PROD with HEARING', metadata={'source': '../data/sample_congressional_hearing.pdf', 'page': 0}),\n",
       " Document(page_content='ONLINE PLATFORMS AND MARKET POWER, PART 6: EXAMINING THE DOMINANCE OF AMAZON, \\nAPPLE, FACEBOOK, AND GOOGLE \\nVerDate Sep 11 2014 23:14 Mar 24, 2021 Jkt 041317 PO 00000 Frm 00002 Fmt 6019 Sfmt 6019 E:\\\\HR\\\\OC\\\\A317.XXX A317khammond on DSKJM1Z7X2PROD with HEARING', metadata={'source': '../data/sample_congressional_hearing.pdf', 'page': 1}),\n",
       " Document(page_content='U.S. GOVERNMENT PUBLISHING OFFICE\\nWASHINGTON : 41–317 2020 ONLINE PLATFORMS AND MARKET POWER, \\nPART 6: EXAMINING THE DOMINANCE OF \\nAMAZON, APPLE, FACEBOOK, AND GOOGLE \\nHEARING \\nBEFORE THE  \\nSUBCOMMITTEE ON ANTITRUST, COMMERCIAL AND \\nADMINISTRATIVE LAW \\nOF THE  \\nCOMMITTEE ON THE JUDICIARY \\nHOUSE OF REPRESENTATIVES \\nONE HUNDRED SIXTEENTH CONGRESS \\nSECOND SESSION \\nJULY 29, 2020 \\nSerial No. 116–94 \\nPrinted for the use of the Committee on the Judiciary \\n( \\nAvailable http://judiciary.house.gov or www.govinfo.gov \\nVerDate Sep 11 2014 23:14 Mar 24, 2021 Jkt 041317 PO 00000 Frm 00003 Fmt 5011 Sfmt 5011 E:\\\\HR\\\\OC\\\\A317.XXX A317khammond on DSKJM1Z7X2PROD with HEARING', metadata={'source': '../data/sample_congressional_hearing.pdf', 'page': 2})]"
      ]
     },
     "execution_count": 4,
     "metadata": {},
     "output_type": "execute_result"
    }
   ],
   "source": [
    "loader = PyPDFLoader('../data/sample_congressional_hearing.pdf')\n",
    "docs   = loader.load()\n",
    "\n",
    "docs[0:3]"
   ]
  },
  {
   "cell_type": "code",
   "execution_count": 5,
   "id": "da665ef6-40a3-4c30-af18-ae07babfd6cf",
   "metadata": {},
   "outputs": [
    {
     "name": "stdout",
     "output_type": "stream",
     "text": [
      "Number of chunks in docs: 758 \n",
      "\n",
      "Number of chunks ib split_docs: 1056 \n",
      "\n",
      "Preview below:\n",
      "\n",
      "[Document(page_content='ONLINE PLATFORMS AND MARKET POWER, \\nPART 6: EXAMINING THE DOMINANCE OF \\nAMAZON, APPLE, FACEBOOK, AND GOOGLE \\nHEARING \\nBEFORE THE  \\nSUBCOMMITTEE ON ANTITRUST, COMMERCIAL AND \\nADMINISTRATIVE LAW \\nOF THE  \\nCOMMITTEE ON THE JUDICIARY \\nHOUSE OF REPRESENTATIVES \\nONE HUNDRED SIXTEENTH CONGRESS \\nSECOND SESSION \\nJULY 29, 2020 \\nSerial No. 116–94 \\nPrinted for the use of the Committee on the Judiciary \\n( \\nAvailable http://judiciary.house.gov or www.govinfo.gov \\nVerDate Sep 11 2014 23:14 Mar 24, 2021 Jkt 041317 PO 00000 Frm 00001 Fmt 6011 Sfmt 6011 E:\\\\HR\\\\OC\\\\A317.XXX A317khammond on DSKJM1Z7X2PROD with HEARING', metadata={'source': '../data/sample_congressional_hearing.pdf', 'page': 0}), Document(page_content='ONLINE PLATFORMS AND MARKET POWER, PART 6: EXAMINING THE DOMINANCE OF AMAZON, \\nAPPLE, FACEBOOK, AND GOOGLE \\nVerDate Sep 11 2014 23:14 Mar 24, 2021 Jkt 041317 PO 00000 Frm 00002 Fmt 6019 Sfmt 6019 E:\\\\HR\\\\OC\\\\A317.XXX A317khammond on DSKJM1Z7X2PROD with HEARING', metadata={'source': '../data/sample_congressional_hearing.pdf', 'page': 1}), Document(page_content='U.S. GOVERNMENT PUBLISHING OFFICE\\nWASHINGTON : 41–317 2020 ONLINE PLATFORMS AND MARKET POWER, \\nPART 6: EXAMINING THE DOMINANCE OF \\nAMAZON, APPLE, FACEBOOK, AND GOOGLE \\nHEARING \\nBEFORE THE  \\nSUBCOMMITTEE ON ANTITRUST, COMMERCIAL AND \\nADMINISTRATIVE LAW \\nOF THE  \\nCOMMITTEE ON THE JUDICIARY \\nHOUSE OF REPRESENTATIVES \\nONE HUNDRED SIXTEENTH CONGRESS \\nSECOND SESSION \\nJULY 29, 2020 \\nSerial No. 116–94 \\nPrinted for the use of the Committee on the Judiciary \\n( \\nAvailable http://judiciary.house.gov or www.govinfo.gov \\nVerDate Sep 11 2014 23:14 Mar 24, 2021 Jkt 041317 PO 00000 Frm 00003 Fmt 5011 Sfmt 5011 E:\\\\HR\\\\OC\\\\A317.XXX A317khammond on DSKJM1Z7X2PROD with HEARING', metadata={'source': '../data/sample_congressional_hearing.pdf', 'page': 2})]\n"
     ]
    }
   ],
   "source": [
    "# Chunk the document using recursive text splitter\n",
    "text_spiltter = RecursiveCharacterTextSplitter(chunk_size = 1000, chunk_overlap = 20)\n",
    "split_doc     = text_spiltter.split_documents(docs)\n",
    "\n",
    "print(\"Number of chunks in docs:\", len(docs), \"\\n\")\n",
    "print(\"Number of chunks ib split_docs:\", len(split_doc), \"\\n\")\n",
    "print(\"Preview below:\\n\")\n",
    "print(split_doc[:3])"
   ]
  },
  {
   "cell_type": "code",
   "execution_count": 6,
   "id": "d63562a1-68cf-4459-9a46-9694d7680922",
   "metadata": {},
   "outputs": [],
   "source": [
    "# Convert to vector embeddings using OpenAI\n",
    "# Store vector embeddings in vectore database (vector store) \n",
    "\n",
    "# db = FAISS.from_documents((split_doc[:30]), OpenAIEmbeddings())\n",
    "db = FAISS.from_documents((split_doc[:]), OpenAIEmbeddings())"
   ]
  },
  {
   "cell_type": "code",
   "execution_count": 7,
   "id": "7d9466ca-ea39-4dfc-a464-6198ff8e4802",
   "metadata": {},
   "outputs": [
    {
     "data": {
      "text/plain": [
       "'as an editor at The New York Times, she wrote a letter explaining \\nwhy she resigned. And I’ll just read three sentences for—for all of you, actually. \\nVerDate Sep 11 2014 23:14 Mar 24, 2021 Jkt 041317 PO 00000 Frm 00161 Fmt 6602 Sfmt 6602 E:\\\\HR\\\\OC\\\\A317.XXX A317khammond on DSKJM1Z7X2PROD with HEARING'"
      ]
     },
     "execution_count": 7,
     "metadata": {},
     "output_type": "execute_result"
    }
   ],
   "source": [
    "# Query the vector database\n",
    "\n",
    "query = \"What is this text about?\"\n",
    "db.similarity_search(query)[0].page_content"
   ]
  },
  {
   "cell_type": "markdown",
   "id": "4e0d42dc-17b2-4241-abcf-f009a15e160d",
   "metadata": {},
   "source": [
    "### Implement LLM capabilites in RAG"
   ]
  },
  {
   "cell_type": "code",
   "execution_count": 8,
   "id": "17cdfbf9-59ba-4303-993e-f7ce47d52449",
   "metadata": {},
   "outputs": [
    {
     "name": "stderr",
     "output_type": "stream",
     "text": [
      "/Users/ahmedaman/Desktop/projects/rag_pipeline/venv_rag_pipeline/lib/python3.10/site-packages/langchain_core/_api/deprecation.py:119: LangChainDeprecationWarning: The method `BaseRetriever.get_relevant_documents` was deprecated in langchain-core 0.1.46 and will be removed in 0.3.0. Use invoke instead.\n",
      "  warn_deprecated(\n"
     ]
    }
   ],
   "source": [
    "# Retrieve relevant documents\n",
    "retriever      = db.as_retriever()\n",
    "retrieved_docs = retriever.get_relevant_documents(query)\n",
    "\n",
    "\n",
    "# Define the context, question and LLM\n",
    "\n",
    "context = \"\\n\\n\".join([doc.page_content for doc in retrieved_docs])\n",
    "query   = \"What is this text about?\"\n",
    "llm     = \"gpt-4-turbo\""
   ]
  },
  {
   "cell_type": "code",
   "execution_count": 9,
   "id": "514cdd18-233b-422b-8e61-c5f0fbdb17f2",
   "metadata": {},
   "outputs": [],
   "source": [
    "# Create the messages to send to the API\n",
    "prompt_template = [\n",
    "    {\"role\": \"system\", \"content\": \"You are a helpful assistant. Answer the following question based only on the provided context. Think step by step before providing a detailed answer. Explain how you came to the answer.\"},\n",
    "    {\"role\": \"user\", \"content\": f\"The context is as follows: \\n<context>\\n{context}\\n</context>\\nQuestion: {query}\"}\n",
    "]"
   ]
  },
  {
   "cell_type": "code",
   "execution_count": 10,
   "id": "7a50d0dd-9da4-4be6-a4d6-ad4c52d77e76",
   "metadata": {},
   "outputs": [
    {
     "name": "stdout",
     "output_type": "stream",
     "text": [
      "The provided text is a compilation of excerpts from various congressional hearings or similar settings where major technology executives were questioned by lawmakers. Here's the breakdown of how I determined this:\n",
      "\n",
      "1. **Presence of Major Tech Executives**: The mentions of names such as \"Mr. Zuckerberg,\" \"Mr. Bezos,\" and \"Mr. Pichai\" indicate that these dialogs involve high-profile figures from major tech companies — specifically, Mark Zuckerberg of Facebook, Jeff Bezos of Amazon, and Sundar Pichai of Google. These individuals typically testify before Congress or participate in hearings related to their company operations and policies.\n",
      "\n",
      "2. **Topics Discussed**:\n",
      "   - The text references discussions around business practices and technologies. For instance, Zuckerberg's mention relates to acquiring companies as a competitive strategy, possibly reflecting antitrust concerns.\n",
      "   - Bezos is questioned on the patterns of behavior concerning third-party sellers on Amazon, suggesting concerns about market practices and fairness.\n",
      "   - Pichai’s discussion touches on the neutrality of email systems, indicating a technology or privacy oversight dialogue.\n",
      "\n",
      "3. **Usage of Formal Hearing Identifiers**: The text includes document identifiers like \"VerDate\", \"Jkt\", \"Frm\", \"Fmt\", \"Sfmt\", which are used in official legislative and hearing documents. Such formatting suggests that the excerpts are from official transcripts of hearings or committee meetings.\n",
      "\n",
      "4. **Interactions with Lawmakers**: The text evidenced interaction between the tech executives and lawmakers (e.g., Mr. Gaetz, Mrs. McBath), which is typical in a congressional hearing setting where legislators question business or tech leaders on various issues impacting public policy, business practices, and consumer rights.\n",
      "\n",
      "5. **Concerns and Queries**: The nature of queries and responses suggests that these discussions aim to address specific concerns about company practices, impacts on society, competitive behaviors, and adherence to the law.\n",
      "\n",
      "From these observations, it's clear that this text revolves around testimonies or interactions between U.S. lawmakers and tech company executives concerning their business practices, strategies, regulatory compliance, and the broader impact of their technologies in society.\n"
     ]
    }
   ],
   "source": [
    "client = OpenAI()\n",
    "\n",
    "completion = client.chat.completions.create(\n",
    "    model    = llm,\n",
    "    messages = prompt_template\n",
    ")\n",
    "\n",
    "print(completion.choices[0].message.content.strip())"
   ]
  },
  {
   "cell_type": "code",
   "execution_count": 11,
   "id": "83ab4bae-5077-4db7-92dc-81ebaae1ddc8",
   "metadata": {
    "tags": []
   },
   "outputs": [
    {
     "name": "stdout",
     "output_type": "stream",
     "text": [
      "Based on the context provided in the text, the speakers identified are:\n",
      "\n",
      "1. **Mr. Cicilline** - Presumably a chairperson or leader of the committee mentioned. He conducts and adjourns the hearing and acknowledges receipt of letters addressed to other individuals.\n",
      "\n",
      "2. **Mr. Zuckerberg** - Represents himself and his platform in the hearing. He speaks about the goal of his platform to provide a space for all voices and ideas.\n",
      "\n",
      "3. **Mr. Armstrong** - A member of the subcommittee who introduces two letters addressed to Mr. Cook and Mr. Pichai, showing involvement in the proceedings.\n",
      "\n",
      "These identified speakers are part of a legislative or investigatory hearing process discussing the influence of certain dominant market players and their impact on democracy and independent business.\n"
     ]
    }
   ],
   "source": [
    "                                                    ### ENTER INPUTS BELOW ###\n",
    "query   = \"Who are the people speaking?\"\n",
    "llm     = \"gpt-4-turbo\"\n",
    "\n",
    "\n",
    "                                                        ### DO NOT EDIT ###\n",
    "# Retrieve relevant documents\n",
    "retriever      = db.as_retriever()\n",
    "retrieved_docs = retriever.get_relevant_documents(query)\n",
    "\n",
    "\n",
    "# Define the context\n",
    "\n",
    "context = \"\\n\\n\".join([doc.page_content for doc in retrieved_docs])\n",
    "\n",
    "# Create the messages to send to the API\n",
    "prompt_template = [\n",
    "    {\"role\": \"system\", \"content\": \"You are a helpful assistant. Answer the following question based only on the provided context. Think step by step before providing a detailed answer. Explain how you came to the answer.\"},\n",
    "    {\"role\": \"user\", \"content\": f\"The context is as follows: \\n<context>\\n{context}\\n</context>\\nQuestion: {query}\"}\n",
    "]\n",
    "\n",
    "completion = client.chat.completions.create(\n",
    "    model    = llm,\n",
    "    messages = prompt_template\n",
    ")\n",
    "\n",
    "print(completion.choices[0].message.content.strip())"
   ]
  },
  {
   "cell_type": "code",
   "execution_count": 17,
   "id": "0f13304a-71f8-4896-ab18-827253599764",
   "metadata": {},
   "outputs": [
    {
     "name": "stdout",
     "output_type": "stream",
     "text": [
      "Based on the provided context, the following individuals are identified as speaking during the hearing:\n",
      "\n",
      "- **Mr. Cicilline**: Likely the chairperson or a leading member of the subcommittee, addressing the witnesses, managing the procedural aspects of the hearing, and adjourning the meeting.\n",
      "- **Witnesses mentioned**: They do not speak in the provided text but are referred to and include:\n",
      "  - **Tim Cook**, Chief Executive Officer, Apple Inc.\n",
      "  - **Mark Zuckerberg**, Chief Executive Administrator, Facebook, Inc.\n",
      "  - **Other witnesses** that could be synonymous with \"the men are named Zuckerberg, Cook, Pichai, and Bezos,\" referencing their influence in the marketplace.\n",
      "\n",
      "These are the people identified in the text as being directly involved in verbal exchanges or referenced during the proceedings.\n"
     ]
    }
   ],
   "source": [
    "                                                    ### ENTER INPUTS BELOW ###\n",
    "query   = \"Who are all the people speaking? Could you list them all in bullets?\"\n",
    "llm     = \"gpt-4-turbo\"\n",
    "\n",
    "\n",
    "                                                        ### DO NOT EDIT ###\n",
    "# Retrieve relevant documents\n",
    "retriever      = db.as_retriever()\n",
    "retrieved_docs = retriever.get_relevant_documents(query)\n",
    "\n",
    "\n",
    "# Define the context\n",
    "\n",
    "context = \"\\n\\n\".join([doc.page_content for doc in retrieved_docs])\n",
    "\n",
    "# Create the messages to send to the API\n",
    "prompt_template = [\n",
    "    {\"role\": \"system\", \"content\": \"You are a helpful assistant. Answer the following question based only on the provided context. Think step by step before providing a detailed answer. Explain how you came to the answer.\"},\n",
    "    {\"role\": \"user\", \"content\": f\"The context is as follows: \\n<context>\\n{context}\\n</context>\\nQuestion: {query}\"}\n",
    "]\n",
    "\n",
    "completion = client.chat.completions.create(\n",
    "    model    = llm,\n",
    "    messages = prompt_template\n",
    ")\n",
    "\n",
    "print(completion.choices[0].message.content.strip())"
   ]
  },
  {
   "cell_type": "code",
   "execution_count": 16,
   "id": "7f9e26e2-2fce-429c-96ec-5afc6da8b7fc",
   "metadata": {},
   "outputs": [
    {
     "name": "stdout",
     "output_type": "stream",
     "text": [
      "The tone of the investigation as described in the context appears to be serious and methodical, emphasizing thoroughness and bipartisanship. Several elements contribute to this tone:\n",
      "\n",
      "1. **Bipartisan Effort**: The investigation was conducted with bipartisan cooperation, as evidenced by the cooperation between different ranking members from both parties. The mention of it being \"an honor to work alongside\" colleagues such as Congressman Jim Sensenbrenner and former ranking member Congressman Doug Collins underscores the collaborative and respectful nature of the proceedings.\n",
      "\n",
      "2. **Extensive Data Collection**: The subcommittee was very diligent in its data collection, obtaining millions of pages of evidence from the firms testifying, as well as from over 100 market participants. This highlights the level of depth and seriousness with which the subcommittee approached the investigation.\n",
      "\n",
      "3. **Expert Consultations and Hearings**: The process included multiple hearings, briefings, and roundtables involving over 35 experts and stakeholders, and hundreds of hours of interviews. This extensive consultation process supports the detailed and comprehensive tone of the investigation.\n",
      "\n",
      "The conflict identified in the investigation revolves around the immense market power of large online platforms, such as those controlled by individuals referred to metaphorically in the context as \"Zuckerberg, Cook, Pichai, and Bezos.\" The core concern is that their control \"allows them to do whatever it takes to crush independent business and expand their own power,\" which poses a threat to economic diversity and democracy.\n",
      "\n",
      "The resolution, while not fully detailed in terms of specific outcomes within the context provided, is proposed in the form of future actions: the subcommittee plans to publish a report based on their findings, recommending solutions to address the problems identified. These would potentially aim at curbing undue market concentration and restoring competitive conditions, adhering to the mandate described from the historical 1950 report—ensuring that competition is preserved and economic power is not unduly concentrated.\n",
      "\n",
      "The quotation from Justice Louis Brandeis used to close the investigation brings the concern into sharper relief by underscoring the choice between democracy and concentrated wealth. It serves both as a summarization of the stakes involved and a call to action, indicating that legislative or regulatory measures may be necessary to address these concerns.\n",
      "\n",
      "In summary, the tone of the investigation is serious and collaborative, striving to thoroughly understand and address significant issues concerning market power and its impact on democracy and economic diversity. The resolution involves continued efforts to propose actionable solutions based on the comprehensive findings of the investigation.\n"
     ]
    }
   ],
   "source": [
    "                                                    ### ENTER INPUTS BELOW ###\n",
    "query   = \"What was the tone of the investigation? What was the conflict and resolution if any?\"\n",
    "llm     = \"gpt-4-turbo\"\n",
    "\n",
    "\n",
    "                                                        ### DO NOT EDIT ###\n",
    "# Retrieve relevant documents\n",
    "retriever      = db.as_retriever()\n",
    "retrieved_docs = retriever.get_relevant_documents(query)\n",
    "\n",
    "\n",
    "# Define the context\n",
    "\n",
    "context = \"\\n\\n\".join([doc.page_content for doc in retrieved_docs])\n",
    "\n",
    "# Create the messages to send to the API\n",
    "prompt_template = [\n",
    "    {\"role\": \"system\", \"content\": \"You are a helpful assistant. Answer the following question based only on the provided context. Think step by step before providing a detailed answer. Explain how you came to the answer.\"},\n",
    "    {\"role\": \"user\", \"content\": f\"The context is as follows: \\n<context>\\n{context}\\n</context>\\nQuestion: {query}\"}\n",
    "]\n",
    "\n",
    "completion = client.chat.completions.create(\n",
    "    model    = llm,\n",
    "    messages = prompt_template\n",
    ")\n",
    "\n",
    "print(completion.choices[0].message.content.strip())"
   ]
  },
  {
   "cell_type": "code",
   "execution_count": 15,
   "id": "eeda52c0-204b-48fc-83cc-22b6cd9f9bbb",
   "metadata": {},
   "outputs": [
    {
     "name": "stdout",
     "output_type": "stream",
     "text": [
      "### Summary of the Text\n",
      "\n",
      "- **Opening and Swearing-In**:\n",
      "  - The session starts with the chairperson, Mr. Cicilline, swearing in the witnesses. Participants include Jeff Bezos of Amazon, Sundar Pichai of Google, Tim Cook of Apple, and Mark Zuckerberg of Facebook.\n",
      "  - They affirm to provide true testimony under penalty of perjury.\n",
      "\n",
      "- **Guidelines for Testimony**:\n",
      "  - Witnesses are reminded that their written statements will be fully entered into the record, and they are asked to summarize their testimonies in 5 minutes.\n",
      "  - A timing light system on Webex is introduced to help manage time: green light indicates speaking time, yellow signals one minute remaining, and red marks the end of the allotted time.\n",
      "\n",
      "- **Testimony Sequence and Content**:\n",
      "  - Jeff Bezos is the first to begin his testimony, followed by Sundar Pichai, Tim Cook, and Mark Zuckerberg.\n",
      "  - The testimony given by each CEO covers topics directly related to their companies and industries.\n",
      "\n",
      "- **Management of Documents and Exhibits**:\n",
      "  - Before questioning starts, Mr. Cicillane enters documents and exhibits, referenced by the majority members, into the hearing record. These have been distributed to the witnesses beforehand.\n",
      "\n",
      "- **Reminder of Testimony Protocols**:\n",
      "  - Witnesses are reminded that they are representing their companies solely and must give their own testimonies. They are allowed to mute and consult with their counsel if needed during the hearing.\n",
      "\n",
      "### Key Elements from the Text\n",
      "\n",
      "- **Opening Testimonies**:\n",
      "  - Witnesses swear in and affirm their commitment to honesty in their testimony.\n",
      "  - Mr. Cicilline extends a welcome and thanks to the witnesses for participating.\n",
      "\n",
      "- **Witness Testimonies**:\n",
      "  - Each technology CEO presents both oral and prepared written testimonies, with oral testimonies meant to be concise summaries due to the 5-minute limit.\n",
      "  - Specific pages in the hearing document are designated for both the oral and prepared testimonies of each CEO (e.g., Jeff Bezos, oral testimony on page 21, prepared on page 23).\n",
      "\n",
      "- **Closing Testimonies**:\n",
      "  - In the given context, closing testimonies are not detailed, but Mr. Cicilline thanks the witnesses for their statements before moving onto the questioning phase using the 5-minute rule.\n",
      "\n",
      "- **Conflicts and Resolutions**:\n",
      "  - The text does not provide specific details about conflicts or questions raised during the hearing, nor resolutions proposed. It mainly outlines the procedures of the hearing and testimonies to be given.\n",
      "\n",
      "This summary and breakdown provide a structured overview of the hearing's progression, focusing on the initial swearing-in, the instructions for delivering testimony, and the setup for the following discussions and questioning.\n"
     ]
    }
   ],
   "source": [
    "                                                    ### ENTER INPUTS BELOW ###\n",
    "query   = \"Create a summary of the text, Present it in key bullet points. Give me the opening testimonies, witness testimonies and closing testimonies as well as any conflicts and resolutions\"\n",
    "llm     = \"gpt-4-turbo\"\n",
    "\n",
    "\n",
    "                                                        ### DO NOT EDIT ###\n",
    "# Retrieve relevant documents\n",
    "retriever      = db.as_retriever()\n",
    "retrieved_docs = retriever.get_relevant_documents(query)\n",
    "\n",
    "\n",
    "# Define the context\n",
    "\n",
    "context = \"\\n\\n\".join([doc.page_content for doc in retrieved_docs])\n",
    "\n",
    "# Create the messages to send to the API\n",
    "prompt_template = [\n",
    "    {\"role\": \"system\", \"content\": \"You are a helpful assistant. Answer the following question based only on the provided context. Think step by step before providing a detailed answer. Explain how you came to the answer.\"},\n",
    "    {\"role\": \"user\", \"content\": f\"The context is as follows: \\n<context>\\n{context}\\n</context>\\nQuestion: {query}\"}\n",
    "]\n",
    "\n",
    "completion = client.chat.completions.create(\n",
    "    model    = llm,\n",
    "    messages = prompt_template\n",
    ")\n",
    "\n",
    "print(completion.choices[0].message.content.strip())"
   ]
  },
  {
   "cell_type": "code",
   "execution_count": null,
   "id": "b8790ea1-8652-400e-a910-b08dbf56543d",
   "metadata": {},
   "outputs": [],
   "source": []
  }
 ],
 "metadata": {
  "kernelspec": {
   "display_name": "Python (venv_rag_pipeline)",
   "language": "python",
   "name": "venv_rag_pipeline"
  },
  "language_info": {
   "codemirror_mode": {
    "name": "ipython",
    "version": 3
   },
   "file_extension": ".py",
   "mimetype": "text/x-python",
   "name": "python",
   "nbconvert_exporter": "python",
   "pygments_lexer": "ipython3",
   "version": "3.10.5"
  }
 },
 "nbformat": 4,
 "nbformat_minor": 5
}
